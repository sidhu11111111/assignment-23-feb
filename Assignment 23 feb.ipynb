{
 "cells": [
  {
   "cell_type": "markdown",
   "id": "fb333389-12fb-47fa-8e79-eaabb7dd58df",
   "metadata": {},
   "source": [
    "#QNO.1 ANS"
   ]
  },
  {
   "cell_type": "code",
   "execution_count": 1,
   "id": "b256f629-e0d1-4cfe-91db-038e026f766a",
   "metadata": {},
   "outputs": [
    {
     "name": "stdout",
     "output_type": "stream",
     "text": [
      "0     4\n",
      "1     8\n",
      "2    15\n",
      "3    16\n",
      "4    23\n",
      "5    42\n",
      "dtype: int64\n"
     ]
    }
   ],
   "source": [
    "import pandas as pd\n",
    "\n",
    "my_series = pd.Series([4, 8, 15, 16, 23, 42])\n",
    "\n",
    "print(my_series)"
   ]
  },
  {
   "cell_type": "markdown",
   "id": "52354377-ac75-4b36-a784-eece28182453",
   "metadata": {},
   "source": [
    "#QNO.2 ANS"
   ]
  },
  {
   "cell_type": "code",
   "execution_count": 3,
   "id": "78e6907c-9e18-48a1-8797-2c8db60a8a1d",
   "metadata": {},
   "outputs": [
    {
     "name": "stdout",
     "output_type": "stream",
     "text": [
      "0     1\n",
      "1     2\n",
      "2     3\n",
      "3     4\n",
      "4     5\n",
      "5     6\n",
      "6     7\n",
      "7     8\n",
      "8     9\n",
      "9    10\n",
      "dtype: int64\n"
     ]
    }
   ],
   "source": [
    "import pandas as pd\n",
    "\n",
    "my_list = [1,2,3,4,5,6,7,8,9,10]\n",
    "\n",
    "my_series = pd.Series(my_list)\n",
    "\n",
    "print(my_series)"
   ]
  },
  {
   "cell_type": "markdown",
   "id": "f05786f7-d4d0-4236-b1b5-54294837242f",
   "metadata": {},
   "source": [
    "#QNO.3 ANS"
   ]
  },
  {
   "cell_type": "code",
   "execution_count": 4,
   "id": "e403a132-9cb3-40a6-93ec-1f479799ed49",
   "metadata": {},
   "outputs": [],
   "source": [
    "d = {'Name':[\"Alice\",\"Bob\",\"Claire\"],\n",
    "     'Age':[25,30,27],\n",
    "     'Gender':[\"Female\",\"Male\",\"Female\"]\n",
    "    \n",
    "}"
   ]
  },
  {
   "cell_type": "code",
   "execution_count": 6,
   "id": "b4f93b5d-517b-4143-b32d-47225eae1ef7",
   "metadata": {},
   "outputs": [
    {
     "data": {
      "text/html": [
       "<div>\n",
       "<style scoped>\n",
       "    .dataframe tbody tr th:only-of-type {\n",
       "        vertical-align: middle;\n",
       "    }\n",
       "\n",
       "    .dataframe tbody tr th {\n",
       "        vertical-align: top;\n",
       "    }\n",
       "\n",
       "    .dataframe thead th {\n",
       "        text-align: right;\n",
       "    }\n",
       "</style>\n",
       "<table border=\"1\" class=\"dataframe\">\n",
       "  <thead>\n",
       "    <tr style=\"text-align: right;\">\n",
       "      <th></th>\n",
       "      <th>Name</th>\n",
       "      <th>Age</th>\n",
       "      <th>Gender</th>\n",
       "    </tr>\n",
       "  </thead>\n",
       "  <tbody>\n",
       "    <tr>\n",
       "      <th>0</th>\n",
       "      <td>Alice</td>\n",
       "      <td>25</td>\n",
       "      <td>Female</td>\n",
       "    </tr>\n",
       "    <tr>\n",
       "      <th>1</th>\n",
       "      <td>Bob</td>\n",
       "      <td>30</td>\n",
       "      <td>Male</td>\n",
       "    </tr>\n",
       "    <tr>\n",
       "      <th>2</th>\n",
       "      <td>Claire</td>\n",
       "      <td>27</td>\n",
       "      <td>Female</td>\n",
       "    </tr>\n",
       "  </tbody>\n",
       "</table>\n",
       "</div>"
      ],
      "text/plain": [
       "     Name  Age  Gender\n",
       "0   Alice   25  Female\n",
       "1     Bob   30    Male\n",
       "2  Claire   27  Female"
      ]
     },
     "execution_count": 6,
     "metadata": {},
     "output_type": "execute_result"
    }
   ],
   "source": [
    "pd.DataFrame(d)"
   ]
  },
  {
   "cell_type": "markdown",
   "id": "e1c179d6-463e-43d1-a72f-183a7dcf8946",
   "metadata": {},
   "source": [
    "#QNO.4 ANS"
   ]
  },
  {
   "cell_type": "markdown",
   "id": "bfab8107-0d68-4cdf-8da1-33dbcdec176d",
   "metadata": {},
   "source": [
    "DataFrame is a two-dimensional labled data structure that consists of columns of different data types.\n",
    "It is similar to SQL , where each olumn can contain diffrent data types , like integers ,floats, strings, and dates.\n",
    "\n",
    "Pandas series is a one-dimensional labeled array that an hold data of any type, including integers, floats ,strings, and dates.\n",
    "A Series has only one column of data ,and it can be seen as a single column of a DataFrame\n",
    "\n",
    "\n",
    "Suppose we have a dataset containing information about the sales of different products in a store. We can represent this data using a DataFrame, where each row represents a different sale and each column represents a different attribute of the sale, such as the object name, manfacture date, the sale price, and the quantity sold.\n",
    "\n",
    "\n",
    "Here's an example:\n"
   ]
  },
  {
   "cell_type": "code",
   "execution_count": 7,
   "id": "493895a3-7dfb-4716-ad6c-9adfbe44acd6",
   "metadata": {},
   "outputs": [],
   "source": [
    "import pandas as pd\n",
    "\n",
    "data ={'object':['Bike','scooty','Car','Truck'],\n",
    "       'manfcture date':['2023-01-01','2023-01-02','2023-01-03','2023-01-04'],\n",
    "       'price':[70000, 30000, 5000000,10000000],\n",
    "       'Quantity':[12,22,3,44]}"
   ]
  },
  {
   "cell_type": "code",
   "execution_count": 8,
   "id": "7a3be578-ae1a-43ad-9183-f774fd361a68",
   "metadata": {},
   "outputs": [
    {
     "data": {
      "text/html": [
       "<div>\n",
       "<style scoped>\n",
       "    .dataframe tbody tr th:only-of-type {\n",
       "        vertical-align: middle;\n",
       "    }\n",
       "\n",
       "    .dataframe tbody tr th {\n",
       "        vertical-align: top;\n",
       "    }\n",
       "\n",
       "    .dataframe thead th {\n",
       "        text-align: right;\n",
       "    }\n",
       "</style>\n",
       "<table border=\"1\" class=\"dataframe\">\n",
       "  <thead>\n",
       "    <tr style=\"text-align: right;\">\n",
       "      <th></th>\n",
       "      <th>object</th>\n",
       "      <th>manfcture date</th>\n",
       "      <th>price</th>\n",
       "      <th>Quantity</th>\n",
       "    </tr>\n",
       "  </thead>\n",
       "  <tbody>\n",
       "    <tr>\n",
       "      <th>0</th>\n",
       "      <td>Bike</td>\n",
       "      <td>2023-01-01</td>\n",
       "      <td>70000</td>\n",
       "      <td>12</td>\n",
       "    </tr>\n",
       "    <tr>\n",
       "      <th>1</th>\n",
       "      <td>scooty</td>\n",
       "      <td>2023-01-02</td>\n",
       "      <td>30000</td>\n",
       "      <td>22</td>\n",
       "    </tr>\n",
       "    <tr>\n",
       "      <th>2</th>\n",
       "      <td>Car</td>\n",
       "      <td>2023-01-03</td>\n",
       "      <td>5000000</td>\n",
       "      <td>3</td>\n",
       "    </tr>\n",
       "    <tr>\n",
       "      <th>3</th>\n",
       "      <td>Truck</td>\n",
       "      <td>2023-01-04</td>\n",
       "      <td>10000000</td>\n",
       "      <td>44</td>\n",
       "    </tr>\n",
       "  </tbody>\n",
       "</table>\n",
       "</div>"
      ],
      "text/plain": [
       "   object manfcture date     price  Quantity\n",
       "0    Bike     2023-01-01     70000        12\n",
       "1  scooty     2023-01-02     30000        22\n",
       "2     Car     2023-01-03   5000000         3\n",
       "3   Truck     2023-01-04  10000000        44"
      ]
     },
     "execution_count": 8,
     "metadata": {},
     "output_type": "execute_result"
    }
   ],
   "source": [
    "pd.DataFrame(data)"
   ]
  },
  {
   "cell_type": "markdown",
   "id": "c668ed23-a7bb-4bf9-b0be-437ac04c88e6",
   "metadata": {},
   "source": [
    "#QNO.5 ANS\n"
   ]
  },
  {
   "cell_type": "markdown",
   "id": "0e7b253e-8bcd-497f-9ecb-f0882d6e77ba",
   "metadata": {},
   "source": [
    "Pandas provides many useful functions to manipulate data in a DataFrame.\n",
    "\n",
    "1.head() and tail(): These functions allow you to view the first or last few rows of a DataFrame. They are useful for quickly inspecting a DataFrame to see what it contains."
   ]
  },
  {
   "cell_type": "code",
   "execution_count": 3,
   "id": "98560c22-0e27-4548-94a6-6533e48a7ff4",
   "metadata": {},
   "outputs": [
    {
     "name": "stdout",
     "output_type": "stream",
     "text": [
      "  taxonomy_id                     name parent_id     parent_name\n",
      "0         101                Emergency       NaN             NaN\n",
      "1      101-01        Disaster Response       101       Emergency\n",
      "2      101-02           Emergency Cash       101       Emergency\n",
      "3   101-02-01        Help Pay for Food    101-02  Emergency Cash\n",
      "4   101-02-02  Help Pay for Healthcare    101-02  Emergency Cash\n",
      "<bound method NDFrame.tail of     taxonomy_id                          name parent_id           parent_name\n",
      "0           101                     Emergency       NaN                   NaN\n",
      "1        101-01             Disaster Response       101             Emergency\n",
      "2        101-02                Emergency Cash       101             Emergency\n",
      "3     101-02-01             Help Pay for Food    101-02        Emergency Cash\n",
      "4     101-02-02       Help Pay for Healthcare    101-02        Emergency Cash\n",
      "..          ...                           ...       ...                   ...\n",
      "285   111-01-07              Workplace Rights    111-01  Advocacy & Legal Aid\n",
      "286      111-02                     Mediation       111                 Legal\n",
      "287      111-03                        Notary       111                 Legal\n",
      "288      111-04                Representation       111                 Legal\n",
      "289      111-05  Translation & Interpretation       111                 Legal\n",
      "\n",
      "[290 rows x 4 columns]>\n"
     ]
    }
   ],
   "source": [
    "import pandas as pd\n",
    "\n",
    "df = pd.read_csv('taxonomy.csv.xls')\n",
    "print(df.head())\n",
    "print((df.tail))"
   ]
  },
  {
   "cell_type": "markdown",
   "id": "3ad11f52-fb29-4597-ab13-5cf3089768e4",
   "metadata": {},
   "source": [
    "2.describe(): This function gives a statistical summary of a DataFrame, including the count, mean, standard deviation, minimum, maximum, and quartile values of each column.\n"
   ]
  },
  {
   "cell_type": "code",
   "execution_count": 4,
   "id": "08983fdb-0098-4161-87e8-f482afce4d7b",
   "metadata": {},
   "outputs": [
    {
     "name": "stdout",
     "output_type": "stream",
     "text": [
      "       taxonomy_id          name  parent_id       parent_name\n",
      "count          290           290        279               279\n",
      "unique         290           183         60                50\n",
      "top            101  Nursing Home  106-06-07  Health Education\n",
      "freq             1             4         11                15\n"
     ]
    }
   ],
   "source": [
    "import pandas as pd \n",
    "\n",
    "df = pd.read_csv('taxonomy.csv.xls')\n",
    "print(df.describe())"
   ]
  },
  {
   "cell_type": "markdown",
   "id": "8f362a98-395c-4b1f-b2df-821a88a34c74",
   "metadata": {},
   "source": [
    "#QNO.6 ANS"
   ]
  },
  {
   "cell_type": "markdown",
   "id": "3f695cb0-a8ff-42e5-98b7-2133ec766656",
   "metadata": {},
   "source": [
    "In Pandas, both Series and DataFrame are mutable objects, which means that their values can be changed after they are created. However, Panel is an immutable object, which means that its values cannot be changed after it is created.\n",
    "\n",
    "Note that even though Series and DataFrame are mutable, it is generally recommended to avoid modifying them in place and instead use functions that return new objects, as this can help avoid unexpected side effects and make the code more readable and easier to debug."
   ]
  },
  {
   "cell_type": "markdown",
   "id": "4157bfba-526b-4a11-84e8-409f43b9557e",
   "metadata": {},
   "source": [
    "#QNO.7 ANS"
   ]
  },
  {
   "cell_type": "code",
   "execution_count": 6,
   "id": "f987cfe9-705c-48c1-a9c8-d18d143dc8db",
   "metadata": {},
   "outputs": [
    {
     "name": "stdout",
     "output_type": "stream",
     "text": [
      "      Name  Age    Country\n",
      "0    Alice   25        USA\n",
      "1      Bob   30     Canada\n",
      "2  Charlie   35  Australia\n",
      "3     Dave   40         UK\n"
     ]
    }
   ],
   "source": [
    "import pandas as pd\n",
    "\n",
    "names = pd.Series(['Alice', 'Bob', 'Charlie', 'Dave'])\n",
    "ages = pd.Series([25, 30, 35, 40])\n",
    "countries = pd.Series(['USA', 'Canada', 'Australia', 'UK'])\n",
    "\n",
    "df = pd.DataFrame({'Name': names, 'Age': ages, 'Country': countries})\n",
    "\n",
    "print(df)\n"
   ]
  }
 ],
 "metadata": {
  "kernelspec": {
   "display_name": "Python 3 (ipykernel)",
   "language": "python",
   "name": "python3"
  },
  "language_info": {
   "codemirror_mode": {
    "name": "ipython",
    "version": 3
   },
   "file_extension": ".py",
   "mimetype": "text/x-python",
   "name": "python",
   "nbconvert_exporter": "python",
   "pygments_lexer": "ipython3",
   "version": "3.10.8"
  }
 },
 "nbformat": 4,
 "nbformat_minor": 5
}
